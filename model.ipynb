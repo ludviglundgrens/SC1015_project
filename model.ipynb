{
 "cells": [
  {
   "cell_type": "code",
   "execution_count": 234,
   "metadata": {},
   "outputs": [],
   "source": [
    "import pandas as pd\n",
    "import numpy as np\n",
    "import seaborn as sns\n",
    "from sklearn.model_selection import train_test_split, GridSearchCV\n",
    "from sklearn.feature_selection import SelectFromModel\n",
    "from sklearn import linear_model\n",
    "from sklearn.ensemble import RandomForestRegressor, GradientBoostingRegressor\n",
    "from sklearn import preprocessing"
   ]
  },
  {
   "attachments": {},
   "cell_type": "markdown",
   "metadata": {},
   "source": [
    "# Fit Random Forest regression model to data"
   ]
  },
  {
   "attachments": {},
   "cell_type": "markdown",
   "metadata": {},
   "source": [
    "### Load data, feature engineering and encoding"
   ]
  },
  {
   "cell_type": "code",
   "execution_count": 63,
   "metadata": {},
   "outputs": [
    {
     "name": "stdout",
     "output_type": "stream",
     "text": [
      "            date    datetime    dateweek  player_id  current_club_id  \\\n",
      "0     2022-08-05  2022-08-05  2022-08-01      41414              398   \n",
      "1     2022-08-05  2022-08-05  2022-08-01     661284            55686   \n",
      "2     2022-07-29  2022-07-29  2022-07-25     663225               29   \n",
      "3     2022-07-29  2022-07-29  2022-07-25     670883              148   \n",
      "4     2022-07-29  2022-07-29  2022-07-25     289846             1010   \n",
      "...          ...         ...         ...        ...              ...   \n",
      "2312  2021-12-22  2021-12-22  2021-12-20     377387              167   \n",
      "2313  2021-12-16  2021-12-16  2021-12-13      76277               40   \n",
      "2314  2021-10-13  2021-10-13  2021-10-11      26399              131   \n",
      "2315  2021-10-05  2021-10-05  2021-10-04     592474              987   \n",
      "2316  2021-10-05  2021-10-05  2021-10-04     627248               29   \n",
      "\n",
      "      market_value_in_eur player_club_domestic_competition_id  \\\n",
      "0                 1000000                                 IT1   \n",
      "1                  300000                                UKR1   \n",
      "2                  450000                                 GB1   \n",
      "3                 2000000                                 GB1   \n",
      "4                 1200000                                 GB1   \n",
      "...                   ...                                 ...   \n",
      "2312              1000000                                  L1   \n",
      "2313              3000000                                 FR1   \n",
      "2314             15000000                                 ES1   \n",
      "2315               200000                                 SC1   \n",
      "2316               300000                                 GB1   \n",
      "\n",
      "                   name  club_id              club_name  ...   Off   Crs  \\\n",
      "0           Lucas Leiva      398              Lazio Rom  ...  0.00  0.16   \n",
      "1               Fabinho    55686  Metalist 1925 Kharkiv  ...  0.00  0.23   \n",
      "2         Tyler Onyango       29             Fc Everton  ...  0.00  0.00   \n",
      "3         Dane Scarlett      148      Tottenham Hotspur  ...  0.00  0.00   \n",
      "4       Ashley Fletcher     1010             Fc Watford  ...  0.00  0.00   \n",
      "...                 ...      ...                    ...  ...   ...   ...   \n",
      "2312     Sergio Córdova      167            Fc Augsburg  ...  1.39  0.83   \n",
      "2313  Laurent Koscielny       40  Fc Girondins Bordeaux  ...  0.00  0.00   \n",
      "2314      Sergio Agüero      131           Fc Barcelona  ...  0.59  2.35   \n",
      "2315   Stuart McKinstry      987          Motherwell Fc  ...  0.00  0.00   \n",
      "2316       Lewis Dobbin       29             Fc Everton  ...  0.00  2.50   \n",
      "\n",
      "      TklW PKwon PKcon   OG  Recov  AerWon  AerLost  AerWon%  \n",
      "0     1.85   0.0   0.0  0.0  10.20    1.53     1.06     59.2  \n",
      "1     1.44   0.0   0.0  0.0  12.10    1.75     1.09     61.6  \n",
      "2     0.00   0.0   0.0  0.0   3.33    3.33     3.33     50.0  \n",
      "3     0.00   0.0   0.0  0.0   0.00    0.00     0.00      0.0  \n",
      "4     6.67   0.0   0.0  0.0  13.30    6.67    20.00     25.0  \n",
      "...    ...   ...   ...  ...    ...     ...      ...      ...  \n",
      "2312  1.11   0.0   0.0  0.0   5.56    5.56     5.56     50.0  \n",
      "2313  0.77   0.0   0.1  0.0   7.88    1.63     0.67     70.8  \n",
      "2314  0.59   0.0   0.0  0.0   1.76    2.35     1.18     66.7  \n",
      "2315  0.00   0.0   0.0  0.0   2.00    0.00     0.00      0.0  \n",
      "2316  5.00   0.0   0.0  0.0   5.00    0.00    15.00      0.0  \n",
      "\n",
      "[2317 rows x 154 columns]\n"
     ]
    }
   ],
   "source": [
    "def oneHotEncode(df,colNames):\n",
    "    for col in colNames:\n",
    "        if( df[col].dtype == np.dtype('object')):\n",
    "            dummies = pd.get_dummies(df[col],prefix=col)\n",
    "            df = pd.concat([df,dummies],axis=1)\n",
    "\n",
    "            #drop the encoded column\n",
    "            df.drop([col],axis = 1 , inplace=True)\n",
    "    return df\n",
    "\n",
    "data = pd.read_csv(\"merged_data.csv\")\n",
    "\n",
    "positions = [(data.Pos == \"FW\") | (data.Pos == \"FWMF\") | (data.Pos == \"FWDF\"),\n",
    "             (data.Pos == \"MF\") | (data.Pos == \"MFFW\") | (data.Pos == \"MFDF\"),\n",
    "             (data.Pos == \"DF\") | (data.Pos == \"DFMF\") | (data.Pos == \"DFFW\")]\n",
    "posNames = [\"Forward\",\"Midfielder\",\"Defender\"]\n",
    "gPos = np.select(positions,posNames)\n",
    "\n",
    "# Create encoding for the categorical variable\n",
    "new_var = pd.get_dummies(gPos, drop_first=True)\n",
    "print(data)\n",
    "\n",
    "data_new = data.join(new_var)"
   ]
  },
  {
   "attachments": {},
   "cell_type": "markdown",
   "metadata": {},
   "source": [
    "### Create test train split"
   ]
  },
  {
   "cell_type": "code",
   "execution_count": 140,
   "metadata": {},
   "outputs": [],
   "source": [
    "X = data_new.drop(columns=[\"market_value_in_eur\"]).select_dtypes(exclude=['object'])\n",
    "Y = data_new['market_value_in_eur']\n",
    "\n",
    "X_scaler = preprocessing.StandardScaler().fit(X)\n",
    "X_scaled = X_scaler.transform(X)\n",
    "\n",
    "X_train, X_test, Y_train, Y_test = train_test_split(X_scaled,Y,test_size = 0.33, shuffle = True)"
   ]
  },
  {
   "cell_type": "code",
   "execution_count": 187,
   "metadata": {},
   "outputs": [
    {
     "data": {
      "text/html": [
       "<div>\n",
       "<style scoped>\n",
       "    .dataframe tbody tr th:only-of-type {\n",
       "        vertical-align: middle;\n",
       "    }\n",
       "\n",
       "    .dataframe tbody tr th {\n",
       "        vertical-align: top;\n",
       "    }\n",
       "\n",
       "    .dataframe thead th {\n",
       "        text-align: right;\n",
       "    }\n",
       "</style>\n",
       "<table border=\"1\" class=\"dataframe\">\n",
       "  <thead>\n",
       "    <tr style=\"text-align: right;\">\n",
       "      <th></th>\n",
       "      <th>vars</th>\n",
       "      <th>scores</th>\n",
       "    </tr>\n",
       "  </thead>\n",
       "  <tbody>\n",
       "    <tr>\n",
       "      <th>10</th>\n",
       "      <td>90s</td>\n",
       "      <td>290.210028</td>\n",
       "    </tr>\n",
       "    <tr>\n",
       "      <th>9</th>\n",
       "      <td>Min</td>\n",
       "      <td>290.156490</td>\n",
       "    </tr>\n",
       "    <tr>\n",
       "      <th>8</th>\n",
       "      <td>Starts</td>\n",
       "      <td>288.264526</td>\n",
       "    </tr>\n",
       "    <tr>\n",
       "      <th>7</th>\n",
       "      <td>MP</td>\n",
       "      <td>224.774937</td>\n",
       "    </tr>\n",
       "    <tr>\n",
       "      <th>3</th>\n",
       "      <td>stadium_seats</td>\n",
       "      <td>207.035885</td>\n",
       "    </tr>\n",
       "    <tr>\n",
       "      <th>123</th>\n",
       "      <td>RecTarg</td>\n",
       "      <td>98.458549</td>\n",
       "    </tr>\n",
       "    <tr>\n",
       "      <th>124</th>\n",
       "      <td>Rec</td>\n",
       "      <td>96.399803</td>\n",
       "    </tr>\n",
       "    <tr>\n",
       "      <th>115</th>\n",
       "      <td>Carries</td>\n",
       "      <td>95.695544</td>\n",
       "    </tr>\n",
       "    <tr>\n",
       "      <th>117</th>\n",
       "      <td>CarPrgDist</td>\n",
       "      <td>85.288120</td>\n",
       "    </tr>\n",
       "    <tr>\n",
       "      <th>116</th>\n",
       "      <td>CarTotDist</td>\n",
       "      <td>84.541563</td>\n",
       "    </tr>\n",
       "    <tr>\n",
       "      <th>53</th>\n",
       "      <td>PasGround</td>\n",
       "      <td>82.203588</td>\n",
       "    </tr>\n",
       "    <tr>\n",
       "      <th>118</th>\n",
       "      <td>CarProg</td>\n",
       "      <td>74.157377</td>\n",
       "    </tr>\n",
       "    <tr>\n",
       "      <th>16</th>\n",
       "      <td>G/SoT</td>\n",
       "      <td>71.407667</td>\n",
       "    </tr>\n",
       "    <tr>\n",
       "      <th>11</th>\n",
       "      <td>Goals</td>\n",
       "      <td>70.696324</td>\n",
       "    </tr>\n",
       "    <tr>\n",
       "      <th>26</th>\n",
       "      <td>PasShoCmp</td>\n",
       "      <td>65.208001</td>\n",
       "    </tr>\n",
       "    <tr>\n",
       "      <th>107</th>\n",
       "      <td>TouAtt3rd</td>\n",
       "      <td>64.288664</td>\n",
       "    </tr>\n",
       "    <tr>\n",
       "      <th>66</th>\n",
       "      <td>SCA</td>\n",
       "      <td>62.427105</td>\n",
       "    </tr>\n",
       "    <tr>\n",
       "      <th>61</th>\n",
       "      <td>PasCmp</td>\n",
       "      <td>61.708683</td>\n",
       "    </tr>\n",
       "    <tr>\n",
       "      <th>21</th>\n",
       "      <td>PasTotCmp</td>\n",
       "      <td>61.708683</td>\n",
       "    </tr>\n",
       "    <tr>\n",
       "      <th>38</th>\n",
       "      <td>PPA</td>\n",
       "      <td>60.327528</td>\n",
       "    </tr>\n",
       "  </tbody>\n",
       "</table>\n",
       "</div>"
      ],
      "text/plain": [
       "              vars      scores\n",
       "10             90s  290.210028\n",
       "9              Min  290.156490\n",
       "8           Starts  288.264526\n",
       "7               MP  224.774937\n",
       "3    stadium_seats  207.035885\n",
       "123        RecTarg   98.458549\n",
       "124            Rec   96.399803\n",
       "115        Carries   95.695544\n",
       "117     CarPrgDist   85.288120\n",
       "116     CarTotDist   84.541563\n",
       "53       PasGround   82.203588\n",
       "118        CarProg   74.157377\n",
       "16           G/SoT   71.407667\n",
       "11           Goals   70.696324\n",
       "26       PasShoCmp   65.208001\n",
       "107      TouAtt3rd   64.288664\n",
       "66             SCA   62.427105\n",
       "61          PasCmp   61.708683\n",
       "21       PasTotCmp   61.708683\n",
       "38             PPA   60.327528"
      ]
     },
     "execution_count": 187,
     "metadata": {},
     "output_type": "execute_result"
    }
   ],
   "source": [
    "from sklearn.feature_selection import SelectKBest\n",
    "from sklearn.feature_selection import f_regression\n",
    "\n",
    "fs = SelectKBest(score_func = f_regression, k = 20)\n",
    "fs.fit(X_train, Y_train)\n",
    "\n",
    "X_train_red = fs.transform(X_train)\n",
    "X_test_red = fs.transform(X_test)\n",
    "\n",
    "vars = pd.DataFrame(X.columns, columns = ['vars'])\n",
    "scores = pd.DataFrame(fs.scores_, columns = ['scores'])\n",
    "\n",
    "vars.join(scores).sort_values(by = 'scores', ascending=False).head(20)"
   ]
  },
  {
   "attachments": {},
   "cell_type": "markdown",
   "metadata": {},
   "source": [
    "# Creating models"
   ]
  },
  {
   "attachments": {},
   "cell_type": "markdown",
   "metadata": {},
   "source": [
    "### Linear Regression "
   ]
  },
  {
   "cell_type": "code",
   "execution_count": 188,
   "metadata": {},
   "outputs": [
    {
     "name": "stdout",
     "output_type": "stream",
     "text": [
      "R^2 for training data is: 0.3560908934994388\n",
      "R^2 for testing data is: 0.37117506612756745\n"
     ]
    }
   ],
   "source": [
    "regr = linear_model.LinearRegression()\n",
    "\n",
    "regr.fit(X_train_red, Y_train)\n",
    "print(\"R^2 for training data is:\", regr.score(X_train_red, Y_train))\n",
    "print(\"R^2 for testing data is:\", regr.score(X_test_red, Y_test))"
   ]
  },
  {
   "attachments": {},
   "cell_type": "markdown",
   "metadata": {},
   "source": [
    "### Ridge Linear Regression"
   ]
  },
  {
   "attachments": {},
   "cell_type": "markdown",
   "metadata": {},
   "source": [
    "Since the regression show clear signs of overfitting, we need to apply regularization. Ridge regression is also referred to as L2 Regularization. "
   ]
  },
  {
   "cell_type": "code",
   "execution_count": 192,
   "metadata": {},
   "outputs": [
    {
     "name": "stdout",
     "output_type": "stream",
     "text": [
      "\n",
      " Alpha set to 0\n",
      "R^2 for training data is: 0.35600945582396226\n",
      "R^2 for testing data is: 0.370745536932511\n",
      "\n",
      " Alpha set to 10\n",
      "R^2 for training data is: 0.35385841125540796\n",
      "R^2 for testing data is: 0.37138858046017464\n",
      "\n",
      " Alpha set to 20\n",
      "R^2 for training data is: 0.35194015637296494\n",
      "R^2 for testing data is: 0.36973289081860605\n",
      "\n",
      " Alpha set to 30\n",
      "R^2 for training data is: 0.35019091058166996\n",
      "R^2 for testing data is: 0.36805012863553244\n",
      "\n",
      " Alpha set to 40\n",
      "R^2 for training data is: 0.34860130996227556\n",
      "R^2 for testing data is: 0.36644325573261527\n",
      "\n",
      " Alpha set to 50\n",
      "R^2 for training data is: 0.34715330792042176\n",
      "R^2 for testing data is: 0.3649356183878364\n",
      "\n",
      " Alpha set to 60\n",
      "R^2 for training data is: 0.3458285180970535\n",
      "R^2 for testing data is: 0.36352702474770116\n",
      "\n",
      " Alpha set to 70\n",
      "R^2 for training data is: 0.3446101789057451\n",
      "R^2 for testing data is: 0.36220968796807207\n",
      "\n",
      " Alpha set to 80\n",
      "R^2 for training data is: 0.3434837618839287\n",
      "R^2 for testing data is: 0.36097392165730413\n",
      "\n",
      " Alpha set to 90\n",
      "R^2 for training data is: 0.34243695300448085\n",
      "R^2 for testing data is: 0.3598102352625676\n"
     ]
    }
   ],
   "source": [
    "for i in range(0,100, 10):\n",
    "    regr = linear_model.Ridge(alpha = i)\n",
    "    regr.fit(X_train_red, Y_train)\n",
    "    print('\\n','Alpha set to', i)\n",
    "    print(\"R^2 for training data is:\", regr.score(X_train_red, Y_train))\n",
    "    print(\"R^2 for testing data is:\", regr.score(X_test_red, Y_test))"
   ]
  },
  {
   "cell_type": "code",
   "execution_count": 199,
   "metadata": {},
   "outputs": [
    {
     "name": "stdout",
     "output_type": "stream",
     "text": [
      "R^2 for training data is 0.355493542664586\n",
      "R^2 for testing data is 0.3722754386029551\n",
      "Alpga used is 1.0\n"
     ]
    },
    {
     "name": "stderr",
     "output_type": "stream",
     "text": [
      "/opt/anaconda3/lib/python3.9/site-packages/sklearn/linear_model/_ridge.py:1791: RuntimeWarning: invalid value encountered in reciprocal\n",
      "  w = ((singvals_sq + alpha) ** -1) - (alpha ** -1)\n"
     ]
    }
   ],
   "source": [
    "regr = linear_model.RidgeCV(alphas = [0.01, 0.1, 1, 10, 100]).fit(X_train_red, Y_train)\n",
    "\n",
    "print(\"R^2 for training data is {}\".format(regr.score(X_train_red, Y_train)))\n",
    "print(\"R^2 for testing data is {}\".format(regr.score(X_test_red, Y_test)))\n",
    "print(\"Alpga used is {}\".format(regr.alpha_))"
   ]
  },
  {
   "attachments": {},
   "cell_type": "markdown",
   "metadata": {},
   "source": [
    "### Random Forest"
   ]
  },
  {
   "attachments": {},
   "cell_type": "markdown",
   "metadata": {},
   "source": [
    "Basic model with depth of 2."
   ]
  },
  {
   "cell_type": "code",
   "execution_count": 206,
   "metadata": {},
   "outputs": [
    {
     "name": "stdout",
     "output_type": "stream",
     "text": [
      "R^2 for training data is: 0.3814398280038128\n",
      "R^2 for testing data is: 0.2920456697382401\n"
     ]
    }
   ],
   "source": [
    "regr = RandomForestRegressor(max_depth=2, random_state=0).fit(X_train_red, Y_train)\n",
    "\n",
    "print(\"R^2 for training data is:\", regr.score(X_train_red, Y_train))\n",
    "print(\"R^2 for testing data is:\", regr.score(X_test_red, Y_test))"
   ]
  },
  {
   "attachments": {},
   "cell_type": "markdown",
   "metadata": {},
   "source": [
    "Simple model optimization for depth. "
   ]
  },
  {
   "cell_type": "code",
   "execution_count": 207,
   "metadata": {},
   "outputs": [
    {
     "name": "stdout",
     "output_type": "stream",
     "text": [
      "\n",
      " Max depth set to 1\n",
      "R^2 for training data is: 0.18154940394665586\n",
      "R^2 for testing data is: 0.15690928547495697\n",
      "\n",
      " Max depth set to 2\n",
      "R^2 for training data is: 0.3814398280038128\n",
      "R^2 for testing data is: 0.2920456697382401\n",
      "\n",
      " Max depth set to 3\n",
      "R^2 for training data is: 0.5029434674962263\n",
      "R^2 for testing data is: 0.37216849359698223\n",
      "\n",
      " Max depth set to 4\n",
      "R^2 for training data is: 0.5958326528995674\n",
      "R^2 for testing data is: 0.41672854374657475\n",
      "\n",
      " Max depth set to 5\n",
      "R^2 for training data is: 0.6739725881364853\n",
      "R^2 for testing data is: 0.442269818051107\n"
     ]
    }
   ],
   "source": [
    "for i in range(1,6):\n",
    "    regr = RandomForestRegressor(max_depth=i, random_state=0)\n",
    "    regr.fit(X_train_red, Y_train)\n",
    "    print('\\n', 'Max depth set to', i)\n",
    "    print(\"R^2 for training data is:\", regr.score(X_train_red, Y_train))\n",
    "    print(\"R^2 for testing data is:\", regr.score(X_test_red, Y_test))"
   ]
  },
  {
   "attachments": {},
   "cell_type": "markdown",
   "metadata": {},
   "source": [
    "The Random Forest model performs noticably better than the Ridge Regression. The marginal increase after depth = 5 is very limited, since the training score gains are not transfered to the testing score. Therefore we use depth = 5 going forward."
   ]
  },
  {
   "attachments": {},
   "cell_type": "markdown",
   "metadata": {},
   "source": [
    "# XG Boost"
   ]
  },
  {
   "cell_type": "code",
   "execution_count": 253,
   "metadata": {},
   "outputs": [
    {
     "name": "stdout",
     "output_type": "stream",
     "text": [
      "R^2 for training data is: 0.7998655960770708\n",
      "R^2 for testing data is: 0.4604091358810396\n"
     ]
    }
   ],
   "source": [
    "regr = GradientBoostingRegressor(random_state=0)\n",
    "regr.fit(X_train_red, Y_train)\n",
    "\n",
    "print(\"R^2 for training data is:\", regr.score(X_train_red, Y_train))\n",
    "print(\"R^2 for testing data is:\", regr.score(X_test_red, Y_test))"
   ]
  },
  {
   "attachments": {},
   "cell_type": "markdown",
   "metadata": {},
   "source": [
    "### Hyper-parameter tuning"
   ]
  },
  {
   "cell_type": "code",
   "execution_count": 247,
   "metadata": {},
   "outputs": [
    {
     "name": "stdout",
     "output_type": "stream",
     "text": [
      "Best parameters was: GradientBoostingRegressor(learning_rate=0.01, max_depth=4, min_samples_split=4,\n",
      "                          random_state=0)\n",
      "Best score was: 0.33445829872984134\n"
     ]
    }
   ],
   "source": [
    "param_grid = {\n",
    "    \"max_depth\": [2,3,4],\n",
    "    \"min_samples_split\": [2,3,4],\n",
    "    \"learning_rate\": [0.01],\n",
    "    \"loss\": [\"squared_error\"],\n",
    "}\n",
    "\n",
    "search = GridSearchCV(estimator=GradientBoostingRegressor(random_state=0), param_grid = param_grid, cv = 5)\n",
    "search.fit(X_train_red, Y_train)\n",
    "print(\"Best parameters was: {}\".format(search.best_estimator_))\n",
    "print(\"Best score was: {}\".format(search.best_score_))"
   ]
  },
  {
   "attachments": {},
   "cell_type": "markdown",
   "metadata": {},
   "source": [
    "# MLP Regressor"
   ]
  },
  {
   "cell_type": "code",
   "execution_count": 259,
   "metadata": {},
   "outputs": [
    {
     "name": "stdout",
     "output_type": "stream",
     "text": [
      "R^2 for training data is: 0.2663210827571666\n",
      "R^2 for testing data is: 0.28267675834810135\n"
     ]
    }
   ],
   "source": [
    "from sklearn.neural_network import MLPRegressor\n",
    "\n",
    "regr = MLPRegressor(random_state=0, activation='logistic', solver = 'lbfgs', alpha = 1, max_iter = 2000).fit(X_train_red, Y_train)\n",
    "print(\"R^2 for training data is:\", regr.score(X_train_red, Y_train))\n",
    "print(\"R^2 for testing data is:\", regr.score(X_test_red, Y_test))"
   ]
  },
  {
   "cell_type": "code",
   "execution_count": 260,
   "metadata": {},
   "outputs": [
    {
     "name": "stderr",
     "output_type": "stream",
     "text": [
      "/opt/anaconda3/lib/python3.9/site-packages/sklearn/neural_network/_multilayer_perceptron.py:549: ConvergenceWarning: lbfgs failed to converge (status=1):\n",
      "STOP: TOTAL NO. of ITERATIONS REACHED LIMIT.\n",
      "\n",
      "Increase the number of iterations (max_iter) or scale the data as shown in:\n",
      "    https://scikit-learn.org/stable/modules/preprocessing.html\n",
      "  self.n_iter_ = _check_optimize_result(\"lbfgs\", opt_res, self.max_iter)\n"
     ]
    }
   ],
   "source": [
    "param_grid = {\n",
    "    'activation': ['logistic'], \n",
    "    'solver': ['lbfgs'], \n",
    "    'alpha': [0.1, 0.2, 0.4, 0.6, 0.8, 1]\n",
    "}\n",
    "\n",
    "search = GridSearchCV(estimator=MLPRegressor(random_state=0, max_iter = 2000), param_grid = param_grid, cv = 5)\n",
    "search.fit(X_train_red, Y_train)\n",
    "print(\"Best parameters was: {}\".format(search.best_estimator_))\n",
    "print(\"Best score was: {}\".format(search.best_score_))"
   ]
  }
 ],
 "metadata": {
  "kernelspec": {
   "display_name": "base",
   "language": "python",
   "name": "python3"
  },
  "language_info": {
   "codemirror_mode": {
    "name": "ipython",
    "version": 3
   },
   "file_extension": ".py",
   "mimetype": "text/x-python",
   "name": "python",
   "nbconvert_exporter": "python",
   "pygments_lexer": "ipython3",
   "version": "3.9.13"
  },
  "orig_nbformat": 4
 },
 "nbformat": 4,
 "nbformat_minor": 2
}
